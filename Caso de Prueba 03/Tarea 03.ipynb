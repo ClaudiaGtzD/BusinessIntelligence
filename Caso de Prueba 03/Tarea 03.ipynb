{
 "cells": [
  {
   "cell_type": "markdown",
   "metadata": {},
   "source": [
    "# Caso de Prueba 03: Churn Analysis"
   ]
  },
  {
   "cell_type": "code",
   "execution_count": 93,
   "metadata": {},
   "outputs": [],
   "source": [
    "#Importaciones\n",
    "import pandas as pd\n",
    "from sklearn.model_selection import train_test_split, GridSearchCV, StratifiedKFold, cross_val_predict\n",
    "from sklearn.linear_model import LogisticRegression\n",
    "from sklearn.metrics import accuracy_score, confusion_matrix, classification_report, roc_auc_score, roc_curve\n",
    "from sklearn.preprocessing import StandardScaler\n",
    "from tqdm import tqdm\n",
    "from timeit import default_timer as timer\n",
    "from imblearn.over_sampling import SMOTE\n",
    "import matplotlib.pyplot as plt"
   ]
  },
  {
   "cell_type": "code",
   "execution_count": 9,
   "metadata": {},
   "outputs": [
    {
     "data": {
      "text/html": [
       "<div>\n",
       "<style scoped>\n",
       "    .dataframe tbody tr th:only-of-type {\n",
       "        vertical-align: middle;\n",
       "    }\n",
       "\n",
       "    .dataframe tbody tr th {\n",
       "        vertical-align: top;\n",
       "    }\n",
       "\n",
       "    .dataframe thead th {\n",
       "        text-align: right;\n",
       "    }\n",
       "</style>\n",
       "<table border=\"1\" class=\"dataframe\">\n",
       "  <thead>\n",
       "    <tr style=\"text-align: right;\">\n",
       "      <th></th>\n",
       "      <th>Retire_Before_65</th>\n",
       "      <th>Gender</th>\n",
       "      <th>Desease</th>\n",
       "      <th>Education_Level</th>\n",
       "      <th>Marital_Status</th>\n",
       "      <th>Monthly_Income</th>\n",
       "      <th>Employee_Employer</th>\n",
       "      <th>Dependants</th>\n",
       "      <th>Unemployment_Rate</th>\n",
       "      <th>Stock_Market</th>\n",
       "      <th>Credit_Score</th>\n",
       "      <th>Government_Bonds_Return</th>\n",
       "    </tr>\n",
       "  </thead>\n",
       "  <tbody>\n",
       "    <tr>\n",
       "      <th>0</th>\n",
       "      <td>1</td>\n",
       "      <td>1</td>\n",
       "      <td>1</td>\n",
       "      <td>3</td>\n",
       "      <td>0</td>\n",
       "      <td>18000</td>\n",
       "      <td>0</td>\n",
       "      <td>4</td>\n",
       "      <td>3.444876</td>\n",
       "      <td>24066.16667</td>\n",
       "      <td>699</td>\n",
       "      <td>7.715833</td>\n",
       "    </tr>\n",
       "    <tr>\n",
       "      <th>1</th>\n",
       "      <td>0</td>\n",
       "      <td>1</td>\n",
       "      <td>0</td>\n",
       "      <td>3</td>\n",
       "      <td>0</td>\n",
       "      <td>32000</td>\n",
       "      <td>0</td>\n",
       "      <td>1</td>\n",
       "      <td>5.023797</td>\n",
       "      <td>42063.16667</td>\n",
       "      <td>639</td>\n",
       "      <td>5.414833</td>\n",
       "    </tr>\n",
       "    <tr>\n",
       "      <th>2</th>\n",
       "      <td>0</td>\n",
       "      <td>1</td>\n",
       "      <td>1</td>\n",
       "      <td>4</td>\n",
       "      <td>0</td>\n",
       "      <td>20000</td>\n",
       "      <td>0</td>\n",
       "      <td>2</td>\n",
       "      <td>5.355220</td>\n",
       "      <td>30100.50000</td>\n",
       "      <td>610</td>\n",
       "      <td>7.962750</td>\n",
       "    </tr>\n",
       "    <tr>\n",
       "      <th>3</th>\n",
       "      <td>0</td>\n",
       "      <td>0</td>\n",
       "      <td>1</td>\n",
       "      <td>4</td>\n",
       "      <td>1</td>\n",
       "      <td>35000</td>\n",
       "      <td>1</td>\n",
       "      <td>1</td>\n",
       "      <td>3.843570</td>\n",
       "      <td>24066.16667</td>\n",
       "      <td>649</td>\n",
       "      <td>7.715833</td>\n",
       "    </tr>\n",
       "    <tr>\n",
       "      <th>4</th>\n",
       "      <td>0</td>\n",
       "      <td>0</td>\n",
       "      <td>1</td>\n",
       "      <td>3</td>\n",
       "      <td>0</td>\n",
       "      <td>27000</td>\n",
       "      <td>0</td>\n",
       "      <td>1</td>\n",
       "      <td>4.949226</td>\n",
       "      <td>19439.00000</td>\n",
       "      <td>638</td>\n",
       "      <td>8.024167</td>\n",
       "    </tr>\n",
       "    <tr>\n",
       "      <th>...</th>\n",
       "      <td>...</td>\n",
       "      <td>...</td>\n",
       "      <td>...</td>\n",
       "      <td>...</td>\n",
       "      <td>...</td>\n",
       "      <td>...</td>\n",
       "      <td>...</td>\n",
       "      <td>...</td>\n",
       "      <td>...</td>\n",
       "      <td>...</td>\n",
       "      <td>...</td>\n",
       "      <td>...</td>\n",
       "    </tr>\n",
       "    <tr>\n",
       "      <th>1495</th>\n",
       "      <td>1</td>\n",
       "      <td>0</td>\n",
       "      <td>0</td>\n",
       "      <td>5</td>\n",
       "      <td>1</td>\n",
       "      <td>26000</td>\n",
       "      <td>0</td>\n",
       "      <td>2</td>\n",
       "      <td>5.111358</td>\n",
       "      <td>32304.66667</td>\n",
       "      <td>604</td>\n",
       "      <td>7.193917</td>\n",
       "    </tr>\n",
       "    <tr>\n",
       "      <th>1496</th>\n",
       "      <td>0</td>\n",
       "      <td>1</td>\n",
       "      <td>0</td>\n",
       "      <td>3</td>\n",
       "      <td>0</td>\n",
       "      <td>32000</td>\n",
       "      <td>0</td>\n",
       "      <td>4</td>\n",
       "      <td>4.929185</td>\n",
       "      <td>41229.83333</td>\n",
       "      <td>753</td>\n",
       "      <td>5.910000</td>\n",
       "    </tr>\n",
       "    <tr>\n",
       "      <th>1497</th>\n",
       "      <td>1</td>\n",
       "      <td>1</td>\n",
       "      <td>1</td>\n",
       "      <td>4</td>\n",
       "      <td>1</td>\n",
       "      <td>17000</td>\n",
       "      <td>0</td>\n",
       "      <td>2</td>\n",
       "      <td>5.054852</td>\n",
       "      <td>37846.16667</td>\n",
       "      <td>631</td>\n",
       "      <td>6.198750</td>\n",
       "    </tr>\n",
       "    <tr>\n",
       "      <th>1498</th>\n",
       "      <td>0</td>\n",
       "      <td>0</td>\n",
       "      <td>0</td>\n",
       "      <td>5</td>\n",
       "      <td>0</td>\n",
       "      <td>26000</td>\n",
       "      <td>0</td>\n",
       "      <td>2</td>\n",
       "      <td>4.827790</td>\n",
       "      <td>41229.83333</td>\n",
       "      <td>613</td>\n",
       "      <td>5.910000</td>\n",
       "    </tr>\n",
       "    <tr>\n",
       "      <th>1499</th>\n",
       "      <td>0</td>\n",
       "      <td>0</td>\n",
       "      <td>1</td>\n",
       "      <td>3</td>\n",
       "      <td>1</td>\n",
       "      <td>33000</td>\n",
       "      <td>1</td>\n",
       "      <td>1</td>\n",
       "      <td>5.195010</td>\n",
       "      <td>31577.33333</td>\n",
       "      <td>649</td>\n",
       "      <td>7.701083</td>\n",
       "    </tr>\n",
       "  </tbody>\n",
       "</table>\n",
       "<p>1500 rows × 12 columns</p>\n",
       "</div>"
      ],
      "text/plain": [
       "      Retire_Before_65  Gender  Desease  Education_Level  Marital_Status  \\\n",
       "0                    1       1        1                3               0   \n",
       "1                    0       1        0                3               0   \n",
       "2                    0       1        1                4               0   \n",
       "3                    0       0        1                4               1   \n",
       "4                    0       0        1                3               0   \n",
       "...                ...     ...      ...              ...             ...   \n",
       "1495                 1       0        0                5               1   \n",
       "1496                 0       1        0                3               0   \n",
       "1497                 1       1        1                4               1   \n",
       "1498                 0       0        0                5               0   \n",
       "1499                 0       0        1                3               1   \n",
       "\n",
       "      Monthly_Income  Employee_Employer  Dependants  Unemployment_Rate  \\\n",
       "0              18000                  0           4           3.444876   \n",
       "1              32000                  0           1           5.023797   \n",
       "2              20000                  0           2           5.355220   \n",
       "3              35000                  1           1           3.843570   \n",
       "4              27000                  0           1           4.949226   \n",
       "...              ...                ...         ...                ...   \n",
       "1495           26000                  0           2           5.111358   \n",
       "1496           32000                  0           4           4.929185   \n",
       "1497           17000                  0           2           5.054852   \n",
       "1498           26000                  0           2           4.827790   \n",
       "1499           33000                  1           1           5.195010   \n",
       "\n",
       "      Stock_Market  Credit_Score  Government_Bonds_Return  \n",
       "0      24066.16667           699                 7.715833  \n",
       "1      42063.16667           639                 5.414833  \n",
       "2      30100.50000           610                 7.962750  \n",
       "3      24066.16667           649                 7.715833  \n",
       "4      19439.00000           638                 8.024167  \n",
       "...            ...           ...                      ...  \n",
       "1495   32304.66667           604                 7.193917  \n",
       "1496   41229.83333           753                 5.910000  \n",
       "1497   37846.16667           631                 6.198750  \n",
       "1498   41229.83333           613                 5.910000  \n",
       "1499   31577.33333           649                 7.701083  \n",
       "\n",
       "[1500 rows x 12 columns]"
      ]
     },
     "execution_count": 9,
     "metadata": {},
     "output_type": "execute_result"
    }
   ],
   "source": [
    "#Lectura de datos\n",
    "file_path = 'EarlyRetirementPrediction.xlsx'\n",
    "data = pd.read_excel(file_path)\n",
    "# Renombrar las columnas para facilitar su manejo\n",
    "# Renombrar las columnas para facilitar su manejo\n",
    "data.columns = ['Retire_Before_65', 'Gender', 'Desease', 'Education_Level', 'Marital_Status',\n",
    "                'Monthly_Income', 'Employee_Employer', 'Dependants', 'Unemployment_Rate',\n",
    "                'Stock_Market', 'Credit_Score', 'Government_Bonds_Return']\n",
    "data"
   ]
  },
  {
   "cell_type": "code",
   "execution_count": 10,
   "metadata": {},
   "outputs": [],
   "source": [
    "# Separar las características (X) y la variable objetivo (y)\n",
    "X = data.drop('Retire_Before_65', axis=1)\n",
    "y = data['Retire_Before_65']"
   ]
  },
  {
   "cell_type": "code",
   "execution_count": 11,
   "metadata": {},
   "outputs": [],
   "source": [
    "# Normalizar las características\n",
    "scaler = StandardScaler()\n",
    "X_scaled = scaler.fit_transform(X)"
   ]
  },
  {
   "cell_type": "code",
   "execution_count": 60,
   "metadata": {},
   "outputs": [],
   "source": [
    "# Manejo del desbalance de clases con SMOTE\n",
    "smote = SMOTE(random_state=42)\n",
    "X_resampled, y_resampled = smote.fit_resample(X_scaled, y)"
   ]
  },
  {
   "cell_type": "code",
   "execution_count": 75,
   "metadata": {},
   "outputs": [
    {
     "name": "stdout",
     "output_type": "stream",
     "text": [
      "Best Hyperparameters: {'C': 0.01, 'penalty': 'l2', 'solver': 'liblinear'}\n",
      "              precision    recall  f1-score   support\n",
      "\n",
      "           0       0.86      0.84      0.85       238\n",
      "           1       0.84      0.86      0.85       239\n",
      "\n",
      "    accuracy                           0.85       477\n",
      "   macro avg       0.85      0.85      0.85       477\n",
      "weighted avg       0.85      0.85      0.85       477\n",
      "\n",
      "ROC AUC Score: 0.8850075595091593\n",
      "Accuracy: 0.8511530398322851\n",
      "Confusion Matrix:\n",
      " [[200  38]\n",
      " [ 33 206]]\n"
     ]
    }
   ],
   "source": [
    "# Dividir los datos en conjuntos de entrenamiento y prueba\n",
    "X_train, X_test, y_train, y_test = train_test_split(X_resampled, y_resampled, test_size=0.3, stratify=y_resampled)\n",
    "\n",
    "# Configuración de la validación cruzada estratificada\n",
    "cv = StratifiedKFold(n_splits=5, shuffle=True)\n",
    "\n",
    "# Configuración del grid search para ajustar los hiperparámetros\n",
    "param_grid = {\n",
    "    'C': [0.01, 0.1, 1, 10, 100],\n",
    "    'penalty': ['l1', 'l2'],\n",
    "    'solver': ['liblinear']\n",
    "}\n",
    "\n",
    "grid_search = GridSearchCV(LogisticRegression(max_iter=10000), param_grid, cv=cv, scoring='roc_auc', n_jobs=-1)\n",
    "\n",
    "# Entrenar el modelo\n",
    "grid_search.fit(X_train, y_train)\n",
    "\n",
    "# Evaluar el mejor modelo\n",
    "best_model = grid_search.best_estimator_\n",
    "y_pred = best_model.predict(X_test)\n",
    "y_pred_proba = best_model.predict_proba(X_test)[:, 1]\n",
    "\n",
    "# Reportar los resultados\n",
    "print(\"Best Hyperparameters:\", grid_search.best_params_)\n",
    "print(classification_report(y_test, y_pred))\n",
    "print(\"ROC AUC Score:\", roc_auc_score(y_test, y_pred_proba))\n",
    "\n",
    "# Evaluar el modelo\n",
    "accuracy = accuracy_score(y_test, y_pred)\n",
    "conf_matrix = confusion_matrix(y_test, y_pred)\n",
    "\n",
    "print(\"Accuracy:\", accuracy)\n",
    "print(\"Confusion Matrix:\\n\", conf_matrix)"
   ]
  },
  {
   "cell_type": "code",
   "execution_count": 77,
   "metadata": {},
   "outputs": [
    {
     "data": {
      "text/plain": [
       "Retire_Before_65\n",
       "0    556\n",
       "1    555\n",
       "Name: count, dtype: int64"
      ]
     },
     "execution_count": 77,
     "metadata": {},
     "output_type": "execute_result"
    }
   ],
   "source": [
    "y_train.value_counts()"
   ]
  },
  {
   "cell_type": "code",
   "execution_count": 98,
   "metadata": {},
   "outputs": [],
   "source": [
    "entrenamiento = pd.DataFrame(scaler.inverse_transform(X_train))\n",
    "entrenamiento.columns = ['Gender', 'Desease', 'Education_Level', 'Marital_Status',\n",
    "                'Monthly_Income', 'Employee_Employer', 'Dependants', 'Unemployment_Rate',\n",
    "                'Stock_Market', 'Credit_Score', 'Government_Bonds_Return']\n",
    "entrenamiento['Retire_Before_65'] = y_train.values"
   ]
  },
  {
   "cell_type": "code",
   "execution_count": 100,
   "metadata": {},
   "outputs": [],
   "source": [
    "entrenamiento['Gender'] = entrenamiento['Gender'].round()\n",
    "entrenamiento['Desease'] = entrenamiento['Desease'].round()\n",
    "entrenamiento['Education_Level'] = entrenamiento['Education_Level'].round()\n",
    "entrenamiento['Marital_Status'] = entrenamiento['Marital_Status'].round()\n",
    "entrenamiento['Monthly_Income'] = entrenamiento['Monthly_Income'].round()\n",
    "entrenamiento['Employee_Employer'] = entrenamiento['Employee_Employer'].round()\n",
    "entrenamiento['Dependants'] = entrenamiento['Dependants'].round()"
   ]
  },
  {
   "cell_type": "code",
   "execution_count": 101,
   "metadata": {},
   "outputs": [],
   "source": [
    "entrenamiento['Gender'] = entrenamiento['Gender'].replace({0: 'Femenino', 1: 'Masculino'})\n",
    "entrenamiento['Desease'] = entrenamiento['Desease'].replace({0: 'Con enfermedad', 1: 'Sin enfermedad'})\n",
    "entrenamiento['Education_Level'] = entrenamiento['Education_Level'].replace({1: 'Elemental o sin estudios', 2: 'Básica', 3: 'Media', 4: 'Superior', 5: 'Posgrado'})\n",
    "entrenamiento['Marital_Status'] = entrenamiento['Marital_Status'].replace({1: 'Casado', 0: 'Soltero'})\n",
    "entrenamiento['Employee_Employer'] = entrenamiento['Employee_Employer'].replace({1: 'Empleador', 0: 'Empleado'})\n",
    "entrenamiento['Retire_Before_65'] = entrenamiento['Retire_Before_65'].replace({1: 'Antes de los 65', 0: '65 o después'})"
   ]
  },
  {
   "cell_type": "code",
   "execution_count": 102,
   "metadata": {},
   "outputs": [],
   "source": [
    "entrenamiento.to_csv(\"Retiro Entrenamiento con etiquetas.csv\", index=False)"
   ]
  },
  {
   "cell_type": "code",
   "execution_count": 94,
   "metadata": {},
   "outputs": [
    {
     "data": {
      "image/png": "[encoded data removed]",
      "text/plain": [
       "<Figure size 1000x600 with 1 Axes>"
      ]
     },
     "metadata": {},
     "output_type": "display_data"
    }
   ],
   "source": [
    "y_pred_proba = cross_val_predict(best_model, X_scaled, y, cv=cv, method='predict_proba')[:, 1]\n",
    "\n",
    "# Calcular la curva ROC\n",
    "fpr, tpr, thresholds = roc_curve(y, y_pred_proba)\n",
    "roc_auc = roc_auc_score(y, y_pred_proba)\n",
    "\n",
    "# Graficar la curva ROC\n",
    "plt.figure(figsize=(10, 6))\n",
    "plt.plot(fpr, tpr, color='blue', lw=2, label='ROC curve (area = %0.2f)' % roc_auc)\n",
    "plt.plot([0, 1], [0, 1], color='gray', lw=2, linestyle='--')\n",
    "plt.xlim([0.0, 1.0])\n",
    "plt.ylim([0.0, 1.05])\n",
    "plt.xlabel('False Positive Rate')\n",
    "plt.ylabel('True Positive Rate')\n",
    "plt.title('Receiver Operating Characteristic (ROC) Curve')\n",
    "plt.legend(loc=\"lower right\")\n",
    "plt.show()"
   ]
  },
  {
   "cell_type": "code",
   "execution_count": 95,
   "metadata": {},
   "outputs": [
    {
     "data": {
      "text/plain": [
       "array([[200,  38],\n",
       "       [ 33, 206]], dtype=int64)"
      ]
     },
     "execution_count": 95,
     "metadata": {},
     "output_type": "execute_result"
    }
   ],
   "source": [
    "conf_matrix"
   ]
  },
  {
   "cell_type": "code",
   "execution_count": 109,
   "metadata": {},
   "outputs": [],
   "source": [
    "y_pred_proba = cross_val_predict(best_model, X_test, y_test, cv=cv, method='predict_proba')[:, 1]\n"
   ]
  },
  {
   "cell_type": "code",
   "execution_count": 110,
   "metadata": {},
   "outputs": [],
   "source": [
    "prediccion = pd.DataFrame({'real': y_test, 'prediccion': y_pred_proba})"
   ]
  },
  {
   "cell_type": "code",
   "execution_count": 111,
   "metadata": {},
   "outputs": [],
   "source": [
    "prediccion.to_csv(\"probabilidades.csv\", index=False)"
   ]
  },
  {
   "cell_type": "code",
   "execution_count": 112,
   "metadata": {},
   "outputs": [
    {
     "data": {
      "image/png": "[encoded data removed]",
      "text/plain": [
       "<Figure size 800x600 with 2 Axes>"
      ]
     },
     "metadata": {},
     "output_type": "display_data"
    }
   ],
   "source": [
    "# Importar librerías necesarias\n",
    "import pandas as pd\n",
    "import matplotlib.pyplot as plt\n",
    "import seaborn as sns\n",
    "from sklearn.metrics import confusion_matrix\n",
    "\n",
    "# Cargar los datos seleccionados en Power BI\n",
    "# Supongamos que tus columnas se llaman 'real' y 'prediccion'\n",
    "\n",
    "# Calcular la matriz de confusión\n",
    "cm = confusion_matrix(y_test, y_pred)\n",
    "\n",
    "# Crear un DataFrame a partir de la matriz de confusión\n",
    "cm_df = pd.DataFrame(cm, index=['Real Negativo', 'Real Positivo'], columns=['Predicción Negativo', 'Predicción Positivo'])\n",
    "\n",
    "# Crear la gráfica de la matriz de confusión\n",
    "plt.figure(figsize=(8, 6))\n",
    "sns.heatmap(cm_df, annot=True, fmt='d', cmap='Blues')\n",
    "plt.title('Matriz de Confusión')\n",
    "plt.ylabel('Real')\n",
    "plt.xlabel('Predicción')\n",
    "plt.show()\n"
   ]
  }
 ],
 "metadata": {
  "kernelspec": {
   "display_name": "Python 3",
   "language": "python",
   "name": "python3"
  },
  "language_info": {
   "codemirror_mode": {
    "name": "ipython",
    "version": 3
   },
   "file_extension": ".py",
   "mimetype": "text/x-python",
   "name": "python",
   "nbconvert_exporter": "python",
   "pygments_lexer": "ipython3",
   "version": "3.11.9"
  }
 },
 "nbformat": 4,
 "nbformat_minor": 2
}
