{
 "cells": [
  {
   "cell_type": "markdown",
   "metadata": {},
   "source": [
    "# Caso de Prueba 02: Uso de PCA para la detección de anomalías y detectar clientes con riesgo de lavado de dinero"
   ]
  },
  {
   "cell_type": "code",
   "execution_count": 2,
   "metadata": {},
   "outputs": [
    {
     "name": "stdout",
     "output_type": "stream",
     "text": [
      "Collecting statsmodels\n",
      "  Downloading statsmodels-0.14.2-cp311-cp311-win_amd64.whl.metadata (9.5 kB)\n",
      "Requirement already satisfied: numpy>=1.22.3 in c:\\users\\claudia\\appdata\\local\\programs\\python\\python311\\lib\\site-packages (from statsmodels) (1.26.4)\n",
      "Collecting scipy!=1.9.2,>=1.8 (from statsmodels)\n",
      "  Downloading scipy-1.13.1-cp311-cp311-win_amd64.whl.metadata (60 kB)\n",
      "     ---------------------------------------- 0.0/60.6 kB ? eta -:--:--\n",
      "     ------ --------------------------------- 10.2/60.6 kB ? eta -:--:--\n",
      "     ------------ ------------------------- 20.5/60.6 kB 330.3 kB/s eta 0:00:01\n",
      "     ------------------- ------------------ 30.7/60.6 kB 325.1 kB/s eta 0:00:01\n",
      "     -------------------------------------- 60.6/60.6 kB 402.7 kB/s eta 0:00:00\n",
      "Requirement already satisfied: pandas!=2.1.0,>=1.4 in c:\\users\\claudia\\appdata\\local\\programs\\python\\python311\\lib\\site-packages (from statsmodels) (2.2.2)\n",
      "Collecting patsy>=0.5.6 (from statsmodels)\n",
      "  Downloading patsy-0.5.6-py2.py3-none-any.whl.metadata (3.5 kB)\n",
      "Requirement already satisfied: packaging>=21.3 in c:\\users\\claudia\\appdata\\roaming\\python\\python311\\site-packages (from statsmodels) (24.0)\n",
      "Requirement already satisfied: python-dateutil>=2.8.2 in c:\\users\\claudia\\appdata\\roaming\\python\\python311\\site-packages (from pandas!=2.1.0,>=1.4->statsmodels) (2.9.0.post0)\n",
      "Requirement already satisfied: pytz>=2020.1 in c:\\users\\claudia\\appdata\\local\\programs\\python\\python311\\lib\\site-packages (from pandas!=2.1.0,>=1.4->statsmodels) (2024.1)\n",
      "Requirement already satisfied: tzdata>=2022.7 in c:\\users\\claudia\\appdata\\local\\programs\\python\\python311\\lib\\site-packages (from pandas!=2.1.0,>=1.4->statsmodels) (2024.1)\n",
      "Requirement already satisfied: six in c:\\users\\claudia\\appdata\\roaming\\python\\python311\\site-packages (from patsy>=0.5.6->statsmodels) (1.16.0)\n",
      "Downloading statsmodels-0.14.2-cp311-cp311-win_amd64.whl (9.9 MB)\n",
      "   ---------------------------------------- 0.0/9.9 MB ? eta -:--:--\n",
      "   ---------------------------------------- 0.1/9.9 MB 1.7 MB/s eta 0:00:06\n",
      "    --------------------------------------- 0.2/9.9 MB 2.2 MB/s eta 0:00:05\n",
      "   - -------------------------------------- 0.3/9.9 MB 2.0 MB/s eta 0:00:05\n",
      "   - -------------------------------------- 0.4/9.9 MB 2.0 MB/s eta 0:00:05\n",
      "   -- ------------------------------------- 0.7/9.9 MB 3.3 MB/s eta 0:00:03\n",
      "   ----- ---------------------------------- 1.3/9.9 MB 4.6 MB/s eta 0:00:02\n",
      "   --------- ------------------------------ 2.4/9.9 MB 7.4 MB/s eta 0:00:02\n",
      "   ---------------- ----------------------- 4.0/9.9 MB 10.8 MB/s eta 0:00:01\n",
      "   ----------------------- ---------------- 5.8/9.9 MB 13.1 MB/s eta 0:00:01\n",
      "   --------------------------- ------------ 6.7/9.9 MB 14.8 MB/s eta 0:00:01\n",
      "   --------------------------- ------------ 6.7/9.9 MB 14.8 MB/s eta 0:00:01\n",
      "   ---------------------------------------  9.6/9.9 MB 17.6 MB/s eta 0:00:01\n",
      "   ---------------------------------------  9.9/9.9 MB 17.0 MB/s eta 0:00:01\n",
      "   ---------------------------------------- 9.9/9.9 MB 15.0 MB/s eta 0:00:00\n",
      "Downloading patsy-0.5.6-py2.py3-none-any.whl (233 kB)\n",
      "   ---------------------------------------- 0.0/233.9 kB ? eta -:--:--\n",
      "   --------------------------------------- 233.9/233.9 kB 14.0 MB/s eta 0:00:00\n",
      "Downloading scipy-1.13.1-cp311-cp311-win_amd64.whl (46.2 MB)\n",
      "   ---------------------------------------- 0.0/46.2 MB ? eta -:--:--\n",
      "   - -------------------------------------- 1.6/46.2 MB 33.3 MB/s eta 0:00:02\n",
      "   -- ------------------------------------- 3.3/46.2 MB 41.6 MB/s eta 0:00:02\n",
      "   ---- ----------------------------------- 5.2/46.2 MB 41.5 MB/s eta 0:00:01\n",
      "   ------ --------------------------------- 7.2/46.2 MB 38.5 MB/s eta 0:00:02\n",
      "   ------- -------------------------------- 9.1/46.2 MB 38.8 MB/s eta 0:00:01\n",
      "   --------- ------------------------------ 11.5/46.2 MB 38.5 MB/s eta 0:00:01\n",
      "   ----------- ---------------------------- 13.2/46.2 MB 38.5 MB/s eta 0:00:01\n",
      "   ------------- -------------------------- 15.0/46.2 MB 36.4 MB/s eta 0:00:01\n",
      "   -------------- ------------------------- 17.0/46.2 MB 36.4 MB/s eta 0:00:01\n",
      "   ---------------- ----------------------- 18.9/46.2 MB 36.4 MB/s eta 0:00:01\n",
      "   ----------------- ---------------------- 20.7/46.2 MB 36.4 MB/s eta 0:00:01\n",
      "   ------------------- -------------------- 22.7/46.2 MB 36.4 MB/s eta 0:00:01\n",
      "   -------------------- ------------------- 24.1/46.2 MB 38.5 MB/s eta 0:00:01\n",
      "   ---------------------- ----------------- 25.6/46.2 MB 36.3 MB/s eta 0:00:01\n",
      "   ----------------------- ---------------- 27.6/46.2 MB 36.4 MB/s eta 0:00:01\n",
      "   ------------------------- -------------- 29.6/46.2 MB 36.4 MB/s eta 0:00:01\n",
      "   --------------------------- ------------ 31.3/46.2 MB 36.4 MB/s eta 0:00:01\n",
      "   ---------------------------- ----------- 33.2/46.2 MB 38.5 MB/s eta 0:00:01\n",
      "   ------------------------------ --------- 35.2/46.2 MB 36.3 MB/s eta 0:00:01\n",
      "   -------------------------------- ------- 37.4/46.2 MB 40.9 MB/s eta 0:00:01\n",
      "   ---------------------------------- ----- 39.5/46.2 MB 38.6 MB/s eta 0:00:01\n",
      "   ----------------------------------- ---- 41.5/46.2 MB 40.9 MB/s eta 0:00:01\n",
      "   -------------------------------------- - 43.9/46.2 MB 40.9 MB/s eta 0:00:01\n",
      "   ---------------------------------------  46.2/46.2 MB 40.9 MB/s eta 0:00:01\n",
      "   ---------------------------------------  46.2/46.2 MB 40.9 MB/s eta 0:00:01\n",
      "   ---------------------------------------  46.2/46.2 MB 40.9 MB/s eta 0:00:01\n",
      "   ---------------------------------------  46.2/46.2 MB 40.9 MB/s eta 0:00:01\n",
      "   ---------------------------------------  46.2/46.2 MB 40.9 MB/s eta 0:00:01\n",
      "   ---------------------------------------- 46.2/46.2 MB 22.6 MB/s eta 0:00:00\n",
      "Installing collected packages: scipy, patsy, statsmodels\n",
      "Successfully installed patsy-0.5.6 scipy-1.13.1 statsmodels-0.14.2\n",
      "Note: you may need to restart the kernel to use updated packages.\n"
     ]
    }
   ],
   "source": [
    "pip install statsmodels"
   ]
  },
  {
   "cell_type": "code",
   "execution_count": 1,
   "metadata": {},
   "outputs": [
    {
     "ename": "ModuleNotFoundError",
     "evalue": "No module named 'statsmodels'",
     "output_type": "error",
     "traceback": [
      "\u001b[1;31m---------------------------------------------------------------------------\u001b[0m",
      "\u001b[1;31mModuleNotFoundError\u001b[0m                       Traceback (most recent call last)",
      "Cell \u001b[1;32mIn[1], line 5\u001b[0m\n\u001b[0;32m      3\u001b[0m \u001b[38;5;28;01mimport\u001b[39;00m \u001b[38;5;21;01mnumpy\u001b[39;00m \u001b[38;5;28;01mas\u001b[39;00m \u001b[38;5;21;01mnp\u001b[39;00m\n\u001b[0;32m      4\u001b[0m \u001b[38;5;28;01mimport\u001b[39;00m \u001b[38;5;21;01mpandas\u001b[39;00m \u001b[38;5;28;01mas\u001b[39;00m \u001b[38;5;21;01mpd\u001b[39;00m\n\u001b[1;32m----> 5\u001b[0m \u001b[38;5;28;01mimport\u001b[39;00m \u001b[38;5;21;01mstatsmodels\u001b[39;00m\u001b[38;5;21;01m.\u001b[39;00m\u001b[38;5;21;01mapi\u001b[39;00m \u001b[38;5;28;01mas\u001b[39;00m \u001b[38;5;21;01msm\u001b[39;00m\n\u001b[0;32m      7\u001b[0m \u001b[38;5;66;03m# Gráficos\u001b[39;00m\n\u001b[0;32m      8\u001b[0m \u001b[38;5;66;03m# ==============================================================================\u001b[39;00m\n\u001b[0;32m      9\u001b[0m \u001b[38;5;28;01mimport\u001b[39;00m \u001b[38;5;21;01mmatplotlib\u001b[39;00m\u001b[38;5;21;01m.\u001b[39;00m\u001b[38;5;21;01mpyplot\u001b[39;00m \u001b[38;5;28;01mas\u001b[39;00m \u001b[38;5;21;01mplt\u001b[39;00m\n",
      "\u001b[1;31mModuleNotFoundError\u001b[0m: No module named 'statsmodels'"
     ]
    }
   ],
   "source": [
    "# Tratamiento de datos\n",
    "# ==============================================================================\n",
    "import numpy as np\n",
    "import pandas as pd\n",
    "import statsmodels.api as sm\n",
    "\n",
    "# Gráficos\n",
    "# ==============================================================================\n",
    "import matplotlib.pyplot as plt\n",
    "import matplotlib.font_manager\n",
    "from matplotlib import style\n",
    "style.use('ggplot') or plt.style.use('ggplot')\n",
    "\n",
    "# Preprocesado y modelado\n",
    "# ==============================================================================\n",
    "from sklearn.decomposition import PCA\n",
    "from sklearn.pipeline import make_pipeline\n",
    "from sklearn.preprocessing import StandardScaler\n",
    "from sklearn.preprocessing import scale\n",
    "\n",
    "# Configuración warnings\n",
    "# ==============================================================================\n",
    "import warnings\n",
    "warnings.filterwarnings('ignore')"
   ]
  },
  {
   "cell_type": "code",
   "execution_count": null,
   "metadata": {},
   "outputs": [],
   "source": [
    "df = pd.read_excel(\"\")"
   ]
  }
 ],
 "metadata": {
  "kernelspec": {
   "display_name": "Python 3",
   "language": "python",
   "name": "python3"
  },
  "language_info": {
   "codemirror_mode": {
    "name": "ipython",
    "version": 3
   },
   "file_extension": ".py",
   "mimetype": "text/x-python",
   "name": "python",
   "nbconvert_exporter": "python",
   "pygments_lexer": "ipython3",
   "version": "3.11.9"
  }
 },
 "nbformat": 4,
 "nbformat_minor": 2
}
